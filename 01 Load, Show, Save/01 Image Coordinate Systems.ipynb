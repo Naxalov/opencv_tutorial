{
 "cells": [
  {
   "cell_type": "markdown",
   "metadata": {},
   "source": [
    "# Image coordinate Systems\n"
   ]
  },
  {
   "cell_type": "code",
   "execution_count": 4,
   "metadata": {},
   "outputs": [
    {
     "name": "stdout",
     "output_type": "stream",
     "text": [
      "  % Total    % Received % Xferd  Average Speed   Time    Time     Time  Current\n",
      "                                 Dload  Upload   Total   Spent    Left  Speed\n",
      "100   132  100   132    0     0     94      0  0:00:01  0:00:01 --:--:--    95\n"
     ]
    }
   ],
   "source": [
    "!curl -O https://raw.githubusercontent.com/Naxalov/ComputerVision/master/OpenCV/basic/flatuicolors.png\n"
   ]
  },
  {
   "cell_type": "code",
   "execution_count": 3,
   "metadata": {},
   "outputs": [],
   "source": [
    "import numpy as np\n",
    "import matplotlib.pyplot as plt\n",
    "# Turn off left xticks\n",
    "plt.rcParams['xtick.bottom'] = False\n",
    "plt.rcParams['xtick.labelbottom'] = False\n",
    "# Turn off bottom yticks\n",
    "plt.rcParams['ytick.left'] = True\n",
    "plt.rcParams['ytick.labelleft'] = True\n",
    "# Turn on top xticks\n",
    "plt.rcParams['xtick.top'] = True\n",
    "plt.rcParams['xtick.labeltop'] = True\n",
    "# Set figure edge color\n",
    "plt.rcParams['figure.edgecolor'] = 'red'\n",
    "# Set x and y axis text labels size\n",
    "plt.rcParams['xtick.labelsize'] = 15\n",
    "plt.rcParams['ytick.labelsize'] = 15\n",
    "\n",
    "\n",
    "def show(img: np.ndarray,grid: bool = False,figsize: tuple = (10,10),dpi: int = 100,major:int=100,minor:int=10) -> None:\n",
    "    # Get image shape\n",
    "    width,height = img.shape[:2]\n",
    "    # Define figure\n",
    "    fig,ax = plt.subplots(figsize=figsize,dpi=dpi)\n",
    "    # Major ticks every 20, minor ticks every 5\n",
    "    major_ticks = np.arange(0, width, major)\n",
    "    minor_ticks = np.arange(0, width, minor)\n",
    "    # Set major ticks for x and y axis\n",
    "    ax.set_xticks(major_ticks)\n",
    "    ax.set_yticks(major_ticks)\n",
    "    # Set minor ticks for x and y axis\n",
    "    ax.set_xticks(minor_ticks, minor=True)\n",
    "    ax.set_yticks(minor_ticks, minor=True)\n",
    "    # Set tick labels to center\n",
    "    ax.set_xticklabels(major_ticks,ha='right')\n",
    "    ax.set_yticklabels(major_ticks,va='center')\n",
    "\n",
    "    # Set grid\n",
    "    if grid:\n",
    "        # ax.grid(which='both')\n",
    "        # Turn on the grid for the minor ticks (only, otherwise there will be two grids)\n",
    "        ax.grid(which='minor', alpha=0.1)\n",
    "        # Turn on the grid for the major ticks (only, otherwise there will be two grids)\n",
    "        ax.grid(which='major', alpha=0.3)\n",
    "\n",
    "\n",
    "    plt.imshow(img)\n",
    "    # Save figure with transparent background\n",
    "    plt.savefig('test.png', transparent=True,dpi=200)\n",
    "\n",
    "    plt.show()\n",
    "    "
   ]
  },
  {
   "cell_type": "code",
   "execution_count": 4,
   "metadata": {},
   "outputs": [
    {
     "data": {
      "image/png": "[encoded data removed]",
      "text/plain": [
       "<Figure size 1000x1000 with 1 Axes>"
      ]
     },
     "metadata": {},
     "output_type": "display_data"
    }
   ],
   "source": [
    "# Image coordinate Systems\n",
    "img = np.full((10,10,3),dtype=np.uint8,fill_value=255)\n",
    "color = (66, 135, 245)\n",
    "img[2:6,3:6] = color\n",
    "# img[0,0] = color\n",
    "show(img,grid=True,minor=1,major=1)"
   ]
  },
  {
   "cell_type": "code",
   "execution_count": 5,
   "metadata": {},
   "outputs": [
    {
     "name": "stdout",
     "output_type": "stream",
     "text": [
      "4.8.0\n"
     ]
    }
   ],
   "source": [
    "# Import OpenCV library\n",
    "import cv2\n",
    "# Print OpenCV version\n",
    "print(cv2.__version__) # 4.8.0"
   ]
  },
  {
   "cell_type": "code",
   "execution_count": null,
   "metadata": {},
   "outputs": [],
   "source": []
  },
  {
   "cell_type": "code",
   "execution_count": null,
   "metadata": {},
   "outputs": [],
   "source": []
  }
 ],
 "metadata": {
  "kernelspec": {
   "display_name": "venv",
   "language": "python",
   "name": "python3"
  },
  "language_info": {
   "codemirror_mode": {
    "name": "ipython",
    "version": 3
   },
   "file_extension": ".py",
   "mimetype": "text/x-python",
   "name": "python",
   "nbconvert_exporter": "python",
   "pygments_lexer": "ipython3",
   "version": "3.9.1"
  },
  "orig_nbformat": 4
 },
 "nbformat": 4,
 "nbformat_minor": 2
}
