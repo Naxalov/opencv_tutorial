{
 "cells": [
  {
   "cell_type": "markdown",
   "metadata": {},
   "source": [
    "# Feature Detection in OpenCV\n",
    "- Harris Corner Detection\n",
    "- Shi-Tomasi Corner Detector & Good Features to Track\n",
    "- SIFT (Scale-Invariant Feature Transform)\n",
    "- SURF (Speeded-Up Robust Features)\n",
    "- FAST Algorithm for Corner Detection\n",
    "- BRIEF (Binary Robust Independent Elementary Features)\n",
    "- ORB (Oriented FAST and Rotated BRIEF)\n",
    "- Feature Matching\n",
    "- Feature Matching + Homography to find Objects"
   ]
  },
  {
   "cell_type": "code",
   "execution_count": 1,
   "metadata": {},
   "outputs": [],
   "source": [
    "import cv2\n",
    "import numpy as np\n",
    "import matplotlib.pyplot as plt\n"
   ]
  },
  {
   "cell_type": "code",
   "execution_count": null,
   "metadata": {},
   "outputs": [],
   "source": []
  }
 ],
 "metadata": {
  "kernelspec": {
   "display_name": "venv",
   "language": "python",
   "name": "python3"
  },
  "language_info": {
   "codemirror_mode": {
    "name": "ipython",
    "version": 3
   },
   "file_extension": ".py",
   "mimetype": "text/x-python",
   "name": "python",
   "nbconvert_exporter": "python",
   "pygments_lexer": "ipython3",
   "version": "3.9.1"
  },
  "orig_nbformat": 4
 },
 "nbformat": 4,
 "nbformat_minor": 2
}
